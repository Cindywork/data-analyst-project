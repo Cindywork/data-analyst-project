{
 "cells": [
  {
   "cell_type": "code",
   "execution_count": 1,
   "metadata": {
    "collapsed": true
   },
   "outputs": [],
   "source": [
    "import pandas as pd\n",
    "titanic_df = pd.read_csv(\"titanic_data.csv\")"
   ]
  },
  {
   "cell_type": "markdown",
   "metadata": {},
   "source": [
    "sibsp Number of Siblings/Spouses Aboard\n",
    "parch Number of Parents/Children Aboard"
   ]
  },
  {
   "cell_type": "code",
   "execution_count": 2,
   "metadata": {},
   "outputs": [
    {
     "data": {
      "text/html": [
       "<div>\n",
       "<style scoped>\n",
       "    .dataframe tbody tr th:only-of-type {\n",
       "        vertical-align: middle;\n",
       "    }\n",
       "\n",
       "    .dataframe tbody tr th {\n",
       "        vertical-align: top;\n",
       "    }\n",
       "\n",
       "    .dataframe thead th {\n",
       "        text-align: right;\n",
       "    }\n",
       "</style>\n",
       "<table border=\"1\" class=\"dataframe\">\n",
       "  <thead>\n",
       "    <tr style=\"text-align: right;\">\n",
       "      <th></th>\n",
       "      <th>PassengerId</th>\n",
       "      <th>Survived</th>\n",
       "      <th>Pclass</th>\n",
       "      <th>Name</th>\n",
       "      <th>Sex</th>\n",
       "      <th>Age</th>\n",
       "      <th>SibSp</th>\n",
       "      <th>Parch</th>\n",
       "      <th>Ticket</th>\n",
       "      <th>Fare</th>\n",
       "      <th>Cabin</th>\n",
       "      <th>Embarked</th>\n",
       "    </tr>\n",
       "  </thead>\n",
       "  <tbody>\n",
       "    <tr>\n",
       "      <th>0</th>\n",
       "      <td>1</td>\n",
       "      <td>0</td>\n",
       "      <td>3</td>\n",
       "      <td>Braund, Mr. Owen Harris</td>\n",
       "      <td>male</td>\n",
       "      <td>22.0</td>\n",
       "      <td>1</td>\n",
       "      <td>0</td>\n",
       "      <td>A/5 21171</td>\n",
       "      <td>7.2500</td>\n",
       "      <td>NaN</td>\n",
       "      <td>S</td>\n",
       "    </tr>\n",
       "    <tr>\n",
       "      <th>1</th>\n",
       "      <td>2</td>\n",
       "      <td>1</td>\n",
       "      <td>1</td>\n",
       "      <td>Cumings, Mrs. John Bradley (Florence Briggs Th...</td>\n",
       "      <td>female</td>\n",
       "      <td>38.0</td>\n",
       "      <td>1</td>\n",
       "      <td>0</td>\n",
       "      <td>PC 17599</td>\n",
       "      <td>71.2833</td>\n",
       "      <td>C85</td>\n",
       "      <td>C</td>\n",
       "    </tr>\n",
       "    <tr>\n",
       "      <th>2</th>\n",
       "      <td>3</td>\n",
       "      <td>1</td>\n",
       "      <td>3</td>\n",
       "      <td>Heikkinen, Miss. Laina</td>\n",
       "      <td>female</td>\n",
       "      <td>26.0</td>\n",
       "      <td>0</td>\n",
       "      <td>0</td>\n",
       "      <td>STON/O2. 3101282</td>\n",
       "      <td>7.9250</td>\n",
       "      <td>NaN</td>\n",
       "      <td>S</td>\n",
       "    </tr>\n",
       "    <tr>\n",
       "      <th>3</th>\n",
       "      <td>4</td>\n",
       "      <td>1</td>\n",
       "      <td>1</td>\n",
       "      <td>Futrelle, Mrs. Jacques Heath (Lily May Peel)</td>\n",
       "      <td>female</td>\n",
       "      <td>35.0</td>\n",
       "      <td>1</td>\n",
       "      <td>0</td>\n",
       "      <td>113803</td>\n",
       "      <td>53.1000</td>\n",
       "      <td>C123</td>\n",
       "      <td>S</td>\n",
       "    </tr>\n",
       "    <tr>\n",
       "      <th>4</th>\n",
       "      <td>5</td>\n",
       "      <td>0</td>\n",
       "      <td>3</td>\n",
       "      <td>Allen, Mr. William Henry</td>\n",
       "      <td>male</td>\n",
       "      <td>35.0</td>\n",
       "      <td>0</td>\n",
       "      <td>0</td>\n",
       "      <td>373450</td>\n",
       "      <td>8.0500</td>\n",
       "      <td>NaN</td>\n",
       "      <td>S</td>\n",
       "    </tr>\n",
       "  </tbody>\n",
       "</table>\n",
       "</div>"
      ],
      "text/plain": [
       "   PassengerId  Survived  Pclass  \\\n",
       "0            1         0       3   \n",
       "1            2         1       1   \n",
       "2            3         1       3   \n",
       "3            4         1       1   \n",
       "4            5         0       3   \n",
       "\n",
       "                                                Name     Sex   Age  SibSp  \\\n",
       "0                            Braund, Mr. Owen Harris    male  22.0      1   \n",
       "1  Cumings, Mrs. John Bradley (Florence Briggs Th...  female  38.0      1   \n",
       "2                             Heikkinen, Miss. Laina  female  26.0      0   \n",
       "3       Futrelle, Mrs. Jacques Heath (Lily May Peel)  female  35.0      1   \n",
       "4                           Allen, Mr. William Henry    male  35.0      0   \n",
       "\n",
       "   Parch            Ticket     Fare Cabin Embarked  \n",
       "0      0         A/5 21171   7.2500   NaN        S  \n",
       "1      0          PC 17599  71.2833   C85        C  \n",
       "2      0  STON/O2. 3101282   7.9250   NaN        S  \n",
       "3      0            113803  53.1000  C123        S  \n",
       "4      0            373450   8.0500   NaN        S  "
      ]
     },
     "execution_count": 2,
     "metadata": {},
     "output_type": "execute_result"
    }
   ],
   "source": [
    "titanic_df.head()"
   ]
  },
  {
   "cell_type": "code",
   "execution_count": 37,
   "metadata": {},
   "outputs": [
    {
     "data": {
      "text/html": [
       "<div>\n",
       "<style scoped>\n",
       "    .dataframe tbody tr th:only-of-type {\n",
       "        vertical-align: middle;\n",
       "    }\n",
       "\n",
       "    .dataframe tbody tr th {\n",
       "        vertical-align: top;\n",
       "    }\n",
       "\n",
       "    .dataframe thead th {\n",
       "        text-align: right;\n",
       "    }\n",
       "</style>\n",
       "<table border=\"1\" class=\"dataframe\">\n",
       "  <thead>\n",
       "    <tr style=\"text-align: right;\">\n",
       "      <th></th>\n",
       "      <th>PassengerId</th>\n",
       "      <th>Survived</th>\n",
       "      <th>Pclass</th>\n",
       "      <th>Age</th>\n",
       "      <th>SibSp</th>\n",
       "      <th>Parch</th>\n",
       "      <th>Fare</th>\n",
       "    </tr>\n",
       "  </thead>\n",
       "  <tbody>\n",
       "    <tr>\n",
       "      <th>count</th>\n",
       "      <td>891.000000</td>\n",
       "      <td>891.000000</td>\n",
       "      <td>891.000000</td>\n",
       "      <td>714.000000</td>\n",
       "      <td>891.000000</td>\n",
       "      <td>891.000000</td>\n",
       "      <td>891.000000</td>\n",
       "    </tr>\n",
       "    <tr>\n",
       "      <th>mean</th>\n",
       "      <td>446.000000</td>\n",
       "      <td>0.383838</td>\n",
       "      <td>2.308642</td>\n",
       "      <td>29.699118</td>\n",
       "      <td>0.523008</td>\n",
       "      <td>0.381594</td>\n",
       "      <td>32.204208</td>\n",
       "    </tr>\n",
       "    <tr>\n",
       "      <th>std</th>\n",
       "      <td>257.353842</td>\n",
       "      <td>0.486592</td>\n",
       "      <td>0.836071</td>\n",
       "      <td>14.526497</td>\n",
       "      <td>1.102743</td>\n",
       "      <td>0.806057</td>\n",
       "      <td>49.693429</td>\n",
       "    </tr>\n",
       "    <tr>\n",
       "      <th>min</th>\n",
       "      <td>1.000000</td>\n",
       "      <td>0.000000</td>\n",
       "      <td>1.000000</td>\n",
       "      <td>0.420000</td>\n",
       "      <td>0.000000</td>\n",
       "      <td>0.000000</td>\n",
       "      <td>0.000000</td>\n",
       "    </tr>\n",
       "    <tr>\n",
       "      <th>25%</th>\n",
       "      <td>223.500000</td>\n",
       "      <td>0.000000</td>\n",
       "      <td>2.000000</td>\n",
       "      <td>20.125000</td>\n",
       "      <td>0.000000</td>\n",
       "      <td>0.000000</td>\n",
       "      <td>7.910400</td>\n",
       "    </tr>\n",
       "    <tr>\n",
       "      <th>50%</th>\n",
       "      <td>446.000000</td>\n",
       "      <td>0.000000</td>\n",
       "      <td>3.000000</td>\n",
       "      <td>28.000000</td>\n",
       "      <td>0.000000</td>\n",
       "      <td>0.000000</td>\n",
       "      <td>14.454200</td>\n",
       "    </tr>\n",
       "    <tr>\n",
       "      <th>75%</th>\n",
       "      <td>668.500000</td>\n",
       "      <td>1.000000</td>\n",
       "      <td>3.000000</td>\n",
       "      <td>38.000000</td>\n",
       "      <td>1.000000</td>\n",
       "      <td>0.000000</td>\n",
       "      <td>31.000000</td>\n",
       "    </tr>\n",
       "    <tr>\n",
       "      <th>max</th>\n",
       "      <td>891.000000</td>\n",
       "      <td>1.000000</td>\n",
       "      <td>3.000000</td>\n",
       "      <td>80.000000</td>\n",
       "      <td>8.000000</td>\n",
       "      <td>6.000000</td>\n",
       "      <td>512.329200</td>\n",
       "    </tr>\n",
       "  </tbody>\n",
       "</table>\n",
       "</div>"
      ],
      "text/plain": [
       "       PassengerId    Survived      Pclass         Age       SibSp  \\\n",
       "count   891.000000  891.000000  891.000000  714.000000  891.000000   \n",
       "mean    446.000000    0.383838    2.308642   29.699118    0.523008   \n",
       "std     257.353842    0.486592    0.836071   14.526497    1.102743   \n",
       "min       1.000000    0.000000    1.000000    0.420000    0.000000   \n",
       "25%     223.500000    0.000000    2.000000   20.125000    0.000000   \n",
       "50%     446.000000    0.000000    3.000000   28.000000    0.000000   \n",
       "75%     668.500000    1.000000    3.000000   38.000000    1.000000   \n",
       "max     891.000000    1.000000    3.000000   80.000000    8.000000   \n",
       "\n",
       "            Parch        Fare  \n",
       "count  891.000000  891.000000  \n",
       "mean     0.381594   32.204208  \n",
       "std      0.806057   49.693429  \n",
       "min      0.000000    0.000000  \n",
       "25%      0.000000    7.910400  \n",
       "50%      0.000000   14.454200  \n",
       "75%      0.000000   31.000000  \n",
       "max      6.000000  512.329200  "
      ]
     },
     "execution_count": 37,
     "metadata": {},
     "output_type": "execute_result"
    }
   ],
   "source": [
    "titanic_df.describe()"
   ]
  },
  {
   "cell_type": "markdown",
   "metadata": {},
   "source": [
    "从这里可以看出，乘客有891人。乘客的平均年龄是29.70岁，。"
   ]
  },
  {
   "cell_type": "code",
   "execution_count": 3,
   "metadata": {},
   "outputs": [
    {
     "data": {
      "text/plain": [
       "342"
      ]
     },
     "execution_count": 3,
     "metadata": {},
     "output_type": "execute_result"
    }
   ],
   "source": [
    "total_survied=titanic_df['Survived'].sum()\n",
    "total_survied"
   ]
  },
  {
   "cell_type": "code",
   "execution_count": 4,
   "metadata": {},
   "outputs": [
    {
     "data": {
      "text/plain": [
       "891"
      ]
     },
     "execution_count": 4,
     "metadata": {},
     "output_type": "execute_result"
    }
   ],
   "source": [
    "total_num=len(titanic_df)\n",
    "total_num"
   ]
  },
  {
   "cell_type": "code",
   "execution_count": 5,
   "metadata": {},
   "outputs": [
    {
     "data": {
      "text/plain": [
       "0.38383838383838381"
      ]
     },
     "execution_count": 5,
     "metadata": {},
     "output_type": "execute_result"
    }
   ],
   "source": [
    "total_survived_rate =  titanic_df['Survived'].sum()/len(titanic_df)\n",
    "total_survived_rate"
   ]
  },
  {
   "cell_type": "markdown",
   "metadata": {},
   "source": [
    "整艘船的生还比例是0.383."
   ]
  },
  {
   "cell_type": "code",
   "execution_count": 46,
   "metadata": {
    "collapsed": true
   },
   "outputs": [],
   "source": [
    "from pandas import Series,DataFrame\n",
    "import matplotlib.pyplot as plt"
   ]
  },
  {
   "cell_type": "code",
   "execution_count": 55,
   "metadata": {},
   "outputs": [
    {
     "name": "stdout",
     "output_type": "stream",
     "text": [
      "          female  male\n",
      "survived     314   577\n"
     ]
    }
   ],
   "source": [
    "graph_1 = pd.DataFrame({'female': [num_female], 'male': [num_male],},\n",
    "                       index=['survived'])\n",
    "print (graph_1)"
   ]
  },
  {
   "cell_type": "code",
   "execution_count": 128,
   "metadata": {},
   "outputs": [
    {
     "data": {
      "image/png": "[encoded data removed]",
      "text/plain": [
       "<matplotlib.figure.Figure at 0x1145402e8>"
      ]
     },
     "metadata": {},
     "output_type": "display_data"
    }
   ],
   "source": [
    "graph_1.plot(kind='bar')\n",
    "plt.show()"
   ]
  },
  {
   "cell_type": "code",
   "execution_count": 6,
   "metadata": {},
   "outputs": [
    {
     "data": {
      "text/plain": [
       "{'female': Int64Index([  1,   2,   3,   8,   9,  10,  11,  14,  15,  18,\n",
       "             ...\n",
       "             866, 871, 874, 875, 879, 880, 882, 885, 887, 888],\n",
       "            dtype='int64', length=314),\n",
       " 'male': Int64Index([  0,   4,   5,   6,   7,  12,  13,  16,  17,  20,\n",
       "             ...\n",
       "             873, 876, 877, 878, 881, 883, 884, 886, 889, 890],\n",
       "            dtype='int64', length=577)}"
      ]
     },
     "execution_count": 6,
     "metadata": {},
     "output_type": "execute_result"
    }
   ],
   "source": [
    "grouped_sex = titanic_df.groupby('Sex')\n",
    "grouped_sex.groups"
   ]
  },
  {
   "cell_type": "code",
   "execution_count": 7,
   "metadata": {},
   "outputs": [
    {
     "data": {
      "text/plain": [
       "314"
      ]
     },
     "execution_count": 7,
     "metadata": {},
     "output_type": "execute_result"
    }
   ],
   "source": [
    "num_female = len(grouped_sex.groups['female'])\n",
    "num_female"
   ]
  },
  {
   "cell_type": "code",
   "execution_count": 8,
   "metadata": {},
   "outputs": [
    {
     "data": {
      "text/plain": [
       "577"
      ]
     },
     "execution_count": 8,
     "metadata": {},
     "output_type": "execute_result"
    }
   ],
   "source": [
    "num_male = len(grouped_sex.groups['male'])\n",
    "num_male"
   ]
  },
  {
   "cell_type": "code",
   "execution_count": 9,
   "metadata": {},
   "outputs": [
    {
     "data": {
      "text/plain": [
       "{('female',\n",
       "  0): Int64Index([ 14,  18,  24,  38,  40,  41,  49,  71, 100, 111, 113, 114, 119,\n",
       "             132, 140, 147, 167, 177, 180, 199, 205, 229, 235, 240, 246, 251,\n",
       "             254, 264, 276, 293, 297, 312, 357, 362, 374, 396, 402, 404, 409,\n",
       "             415, 419, 423, 436, 474, 485, 498, 501, 502, 503, 534, 541, 542,\n",
       "             564, 567, 578, 593, 610, 617, 634, 638, 642, 654, 657, 678, 680,\n",
       "             702, 729, 736, 767, 772, 792, 799, 807, 813, 816, 852, 854, 863,\n",
       "             882, 885, 888],\n",
       "            dtype='int64'),\n",
       " ('female', 1): Int64Index([  1,   2,   3,   8,   9,  10,  11,  15,  19,  22,\n",
       "             ...\n",
       "             858, 862, 865, 866, 871, 874, 875, 879, 880, 887],\n",
       "            dtype='int64', length=233),\n",
       " ('male', 0): Int64Index([  0,   4,   5,   6,   7,  12,  13,  16,  20,  26,\n",
       "             ...\n",
       "             872, 873, 876, 877, 878, 881, 883, 884, 886, 890],\n",
       "            dtype='int64', length=468),\n",
       " ('male', 1): Int64Index([ 17,  21,  23,  36,  55,  65,  74,  78,  81,  97,\n",
       "             ...\n",
       "             804, 821, 827, 828, 831, 838, 839, 857, 869, 889],\n",
       "            dtype='int64', length=109)}"
      ]
     },
     "execution_count": 9,
     "metadata": {},
     "output_type": "execute_result"
    }
   ],
   "source": [
    "grouped_sex_survived = titanic_df.groupby(['Sex', 'Survived'])\n",
    "grouped_sex_survived.groups"
   ]
  },
  {
   "cell_type": "code",
   "execution_count": 10,
   "metadata": {},
   "outputs": [
    {
     "name": "stdout",
     "output_type": "stream",
     "text": [
      "81\n",
      "233\n",
      "0.7420382165605095\n",
      "0.681286549708\n"
     ]
    }
   ],
   "source": [
    "num_female_dead = len(grouped_sex_survived.groups['female',\n",
    "  0])\n",
    "print(num_female_dead)\n",
    "num_female_survived = len(grouped_sex_survived.groups['female',\n",
    "  1])\n",
    "print(num_female_survived)\n",
    "total_female_survived_rate = num_female_survived/total_survied\n",
    "female_survived_rate = num_female_survived/num_female\n",
    "print(female_survived_rate)\n",
    "print(total_female_survived_rate)"
   ]
  },
  {
   "cell_type": "code",
   "execution_count": 11,
   "metadata": {},
   "outputs": [
    {
     "name": "stdout",
     "output_type": "stream",
     "text": [
      "468\n",
      "109\n",
      "0.18890814558058924\n",
      "0.318713450292\n"
     ]
    }
   ],
   "source": [
    "num_male_dead = len(grouped_sex_survived.groups['male',\n",
    "  0])\n",
    "print(num_male_dead)\n",
    "num_male_survived = len(grouped_sex_survived.groups['male',\n",
    "  1])\n",
    "print(num_male_survived)\n",
    "total_male_survived_rate = num_male_survived/total_survied\n",
    "male_survived_rate = num_male_survived/num_male\n",
    "print(male_survived_rate)\n",
    "print(total_male_survived_rate)"
   ]
  },
  {
   "cell_type": "code",
   "execution_count": 72,
   "metadata": {},
   "outputs": [
    {
     "name": "stdout",
     "output_type": "stream",
     "text": [
      "        dead  survived\n",
      "female    81       233\n",
      "male     468       109\n"
     ]
    }
   ],
   "source": [
    "graph_2 = pd.DataFrame({'survived': [num_female_survived, num_male_survived], 'dead': [num_female_dead, num_male_dead],},\n",
    "                       index=['female','male'])\n",
    "print (graph_2)"
   ]
  },
  {
   "cell_type": "code",
   "execution_count": 81,
   "metadata": {},
   "outputs": [
    {
     "data": {
      "image/png": "[encoded data removed]",
      "text/plain": [
       "<matplotlib.figure.Figure at 0x113f43828>"
      ]
     },
     "metadata": {},
     "output_type": "display_data"
    }
   ],
   "source": [
    "graph_2.plot(kind='bar',stacked=True)\n",
    "plt.show()"
   ]
  },
  {
   "cell_type": "markdown",
   "metadata": {},
   "source": [
    "生还的女性乘客有223名，占女性乘客的0.74，占生还总人数0.68.\n",
    "生还的男性乘客有109名，占男性乘客的0.18，占生还总人数0.318."
   ]
  },
  {
   "cell_type": "code",
   "execution_count": 12,
   "metadata": {},
   "outputs": [
    {
     "data": {
      "text/plain": [
       "{(1,\n",
       "  0): Int64Index([  6,  27,  30,  34,  35,  54,  62,  64,  83,  92,  96, 102, 110,\n",
       "             118, 124, 137, 139, 155, 168, 170, 174, 177, 185, 245, 252, 262,\n",
       "             263, 270, 273, 284, 295, 297, 331, 332, 336, 339, 351, 373, 377,\n",
       "             434, 438, 452, 456, 462, 467, 475, 487, 492, 493, 498, 505, 515,\n",
       "             527, 536, 544, 545, 555, 557, 583, 602, 625, 633, 659, 662, 671,\n",
       "             694, 698, 711, 741, 745, 748, 766, 782, 789, 793, 806, 815, 822,\n",
       "             867, 872],\n",
       "            dtype='int64'),\n",
       " (1, 1): Int64Index([  1,   3,  11,  23,  31,  52,  55,  61,  88,  97,\n",
       "             ...\n",
       "             842, 849, 853, 856, 857, 862, 871, 879, 887, 889],\n",
       "            dtype='int64', length=136),\n",
       " (2,\n",
       "  0): Int64Index([ 20,  33,  41,  70,  72,  99, 117, 120, 122, 134, 135, 144, 145,\n",
       "             148, 149, 150, 178, 181, 191, 199, 213, 217, 219, 221, 228, 232,\n",
       "             234, 236, 238, 239, 242, 249, 265, 277, 292, 308, 312, 314, 317,\n",
       "             342, 343, 344, 357, 361, 385, 397, 398, 405, 413, 418, 439, 450,\n",
       "             463, 466, 476, 481, 529, 551, 562, 582, 586, 594, 619, 626, 637,\n",
       "             655, 658, 665, 666, 672, 674, 684, 685, 695, 705, 714, 722, 723,\n",
       "             728, 732, 733, 734, 757, 772, 791, 795, 800, 808, 812, 817, 841,\n",
       "             848, 854, 861, 864, 883, 886],\n",
       "            dtype='int64'),\n",
       " (2,\n",
       "  1): Int64Index([  9,  15,  17,  21,  43,  53,  56,  58,  66,  78,  84,  98, 123,\n",
       "             133, 161, 183, 190, 193, 211, 226, 237, 247, 259, 272, 288, 303,\n",
       "             316, 322, 323, 327, 340, 345, 346, 387, 389, 399, 407, 416, 417,\n",
       "             426, 427, 432, 437, 440, 443, 446, 458, 472, 473, 506, 516, 518,\n",
       "             526, 530, 535, 543, 546, 547, 549, 570, 576, 580, 596, 600, 608,\n",
       "             615, 618, 635, 651, 670, 673, 706, 717, 720, 726, 747, 750, 754,\n",
       "             755, 774, 801, 827, 831, 865, 866, 874, 880],\n",
       "            dtype='int64'),\n",
       " (3, 0): Int64Index([  0,   4,   5,   7,  12,  13,  14,  16,  18,  24,\n",
       "             ...\n",
       "             873, 876, 877, 878, 881, 882, 884, 885, 888, 890],\n",
       "            dtype='int64', length=372),\n",
       " (3, 1): Int64Index([  2,   8,  10,  19,  22,  25,  28,  32,  36,  39,\n",
       "             ...\n",
       "             804, 821, 823, 828, 830, 838, 855, 858, 869, 875],\n",
       "            dtype='int64', length=119)}"
      ]
     },
     "execution_count": 12,
     "metadata": {},
     "output_type": "execute_result"
    }
   ],
   "source": [
    "grouped_pclass_survived = titanic_df.groupby(['Pclass', 'Survived'])\n",
    "grouped_pclass_survived.groups"
   ]
  },
  {
   "cell_type": "code",
   "execution_count": 13,
   "metadata": {},
   "outputs": [
    {
     "name": "stdout",
     "output_type": "stream",
     "text": [
      "80\n",
      "136\n",
      "0.6296296296296297\n",
      "0.397660818713\n"
     ]
    }
   ],
   "source": [
    "num_class1_dead = len(grouped_pclass_survived.groups[1, 0])\n",
    "num_class1_dead\n",
    "num_class1_survived = len(grouped_pclass_survived.groups[1, 1])\n",
    "total_class1_servived_rate = num_class1_survived/total_survied\n",
    "class1_servived_rate = num_class1_survived/(num_class1_dead+num_class1_survived)\n",
    "print(num_class1_dead)\n",
    "print(num_class1_survived)\n",
    "print(class1_servived_rate)\n",
    "print(total_class1_servived_rate)"
   ]
  },
  {
   "cell_type": "code",
   "execution_count": 14,
   "metadata": {},
   "outputs": [
    {
     "name": "stdout",
     "output_type": "stream",
     "text": [
      "97\n",
      "87\n",
      "0.47282608695652173\n",
      "0.254385964912\n"
     ]
    }
   ],
   "source": [
    "num_class2_dead = len(grouped_pclass_survived.groups[2, 0])\n",
    "num_class2_survived = len(grouped_pclass_survived.groups[2, 1])\n",
    "total_class2_servived_rate = num_class2_survived/total_survied\n",
    "class2_servived_rate = num_class2_survived/(num_class2_dead+num_class2_survived)\n",
    "print(num_class2_dead)\n",
    "print(num_class2_survived)\n",
    "print(class2_servived_rate)\n",
    "print(total_class2_servived_rate)"
   ]
  },
  {
   "cell_type": "code",
   "execution_count": 15,
   "metadata": {},
   "outputs": [
    {
     "name": "stdout",
     "output_type": "stream",
     "text": [
      "372\n",
      "119\n",
      "0.24236252545824846\n",
      "0.347953216374\n"
     ]
    }
   ],
   "source": [
    "num_class3_dead = len(grouped_pclass_survived.groups[3, 0])\n",
    "num_class3_survived = len(grouped_pclass_survived.groups[3, 1])\n",
    "total_class3_servived_rate = num_class3_survived/total_survied\n",
    "class3_servived_rate = num_class3_survived/(num_class3_dead+num_class3_survived)\n",
    "print(num_class3_dead)\n",
    "print(num_class3_survived)\n",
    "print(class3_servived_rate)\n",
    "print(total_class3_servived_rate)"
   ]
  },
  {
   "cell_type": "code",
   "execution_count": 74,
   "metadata": {},
   "outputs": [
    {
     "name": "stdout",
     "output_type": "stream",
     "text": [
      "        dead  survived\n",
      "class1    80       136\n",
      "class2    97        87\n",
      "class3   372       119\n"
     ]
    }
   ],
   "source": [
    "graph_3 = pd.DataFrame({'survived': [num_class1_survived, num_class2_survived, num_class3_survived], 'dead': [num_class1_dead, num_class2_dead, num_class3_dead],},\n",
    "                       index=['class1','class2', 'class3'])\n",
    "print (graph_3)"
   ]
  },
  {
   "cell_type": "code",
   "execution_count": 78,
   "metadata": {},
   "outputs": [
    {
     "data": {
      "image/png": "[encoded data removed]",
      "text/plain": [
       "<matplotlib.figure.Figure at 0x113be54e0>"
      ]
     },
     "metadata": {},
     "output_type": "display_data"
    }
   ],
   "source": [
    "graph_3.plot(kind='bar', stacked=True)\n",
    "plt.show()"
   ]
  },
  {
   "cell_type": "code",
   "execution_count": 84,
   "metadata": {},
   "outputs": [
    {
     "data": {
      "text/plain": [
       "{('C',\n",
       "  0): Int64Index([ 26,  30,  34,  42,  48,  54,  57,  60,  64,  73,  96, 111, 114,\n",
       "             118, 122, 130, 135, 139, 140, 155, 174, 177, 181, 203, 240, 244,\n",
       "             273, 285, 292, 295, 296, 308, 352, 354, 361, 362, 373, 377, 378,\n",
       "             420, 452, 487, 493, 495, 505, 522, 524, 531, 532, 544, 557, 568,\n",
       "             578, 583, 584, 598, 620, 659, 661, 685, 693, 698, 702, 731, 766,\n",
       "             773, 789, 793, 798, 817, 832, 843, 847, 852, 859],\n",
       "            dtype='int64'),\n",
       " ('C',\n",
       "  1): Int64Index([  1,   9,  19,  31,  36,  39,  43,  52,  65,  97, 125, 128, 194,\n",
       "             195, 207, 209, 215, 218, 255, 256, 258, 291, 299, 306, 307, 309,\n",
       "             310, 311, 319, 325, 329, 337, 366, 367, 369, 370, 375, 380, 381,\n",
       "             389, 393, 448, 453, 455, 469, 473, 484, 496, 513, 523, 533, 537,\n",
       "             539, 547, 550, 553, 556, 581, 587, 591, 599, 604, 608, 622, 632,\n",
       "             641, 644, 645, 647, 679, 681, 691, 700, 709, 710, 716, 737, 742,\n",
       "             762, 780, 803, 827, 830, 835, 839, 842, 849, 858, 866, 874, 875,\n",
       "             879, 889],\n",
       "            dtype='int64'),\n",
       " ('Q',\n",
       "  0): Int64Index([  5,  16,  46, 116, 126, 143, 171, 188, 196, 214, 245, 260, 264,\n",
       "             278, 280, 364, 388, 411, 421, 428, 459, 468, 501, 502, 517, 525,\n",
       "             552, 560, 593, 613, 626, 629, 654, 657, 680, 703, 718, 749, 767,\n",
       "             768, 776, 778, 787, 790, 825, 885, 890],\n",
       "            dtype='int64'),\n",
       " ('Q',\n",
       "  1): Int64Index([ 22,  28,  32,  44,  47,  82, 109, 156, 186, 198, 208, 241, 274,\n",
       "             289, 300, 301, 303, 322, 330, 358, 359, 368, 412, 510, 573, 612,\n",
       "             653, 697, 727, 828],\n",
       "            dtype='int64'),\n",
       " ('S', 0): Int64Index([  0,   4,   6,   7,  12,  13,  14,  18,  20,  24,\n",
       "             ...\n",
       "             873, 876, 877, 878, 881, 882, 883, 884, 886, 888],\n",
       "            dtype='int64', length=427),\n",
       " ('S', 1): Int64Index([  2,   3,   8,  10,  11,  15,  17,  21,  23,  25,\n",
       "             ...\n",
       "             853, 855, 856, 857, 862, 865, 869, 871, 880, 887],\n",
       "            dtype='int64', length=217),\n",
       " (nan, 1): Int64Index([61, 829], dtype='int64')}"
      ]
     },
     "execution_count": 84,
     "metadata": {},
     "output_type": "execute_result"
    }
   ],
   "source": [
    "grouped_embarked_survived = titanic_df.groupby(['Embarked', 'Survived'])\n",
    "grouped_embarked_survived.groups"
   ]
  },
  {
   "cell_type": "code",
   "execution_count": 129,
   "metadata": {},
   "outputs": [
    {
     "name": "stdout",
     "output_type": "stream",
     "text": [
      "0.5535714285714286\n",
      "75 93\n"
     ]
    }
   ],
   "source": [
    "num_C_dead = len(grouped_embarked_survived.groups['C',0])\n",
    "num_C_survived = len(grouped_embarked_survived.groups['C',1])\n",
    "C_survived_rate = num_C_survived/(num_C_dead+num_C_survived)\n",
    "print(C_survived_rate)\n",
    "print(num_C_dead,num_C_survived)\n"
   ]
  },
  {
   "cell_type": "code",
   "execution_count": 130,
   "metadata": {},
   "outputs": [
    {
     "name": "stdout",
     "output_type": "stream",
     "text": [
      "0.38961038961038963\n",
      "47 30\n"
     ]
    }
   ],
   "source": [
    "num_Q_dead = len(grouped_embarked_survived.groups['Q',0])\n",
    "num_Q_survived = len(grouped_embarked_survived.groups['Q',1])\n",
    "Q_survived_rate = num_Q_survived/(num_Q_dead+num_Q_survived)\n",
    "print(Q_survived_rate)\n",
    "print(num_Q_dead,num_Q_survived)"
   ]
  },
  {
   "cell_type": "code",
   "execution_count": 131,
   "metadata": {},
   "outputs": [
    {
     "name": "stdout",
     "output_type": "stream",
     "text": [
      "0.38961038961038963\n",
      "427 217\n"
     ]
    }
   ],
   "source": [
    "num_S_dead = len(grouped_embarked_survived.groups['S',0])\n",
    "num_S_survived = len(grouped_embarked_survived.groups['S',1])\n",
    "Q_survived_rate = num_Q_survived/(num_Q_dead+num_Q_survived)\n",
    "print(Q_survived_rate)\n",
    "print(num_S_dead,num_S_survived)"
   ]
  },
  {
   "cell_type": "code",
   "execution_count": 93,
   "metadata": {},
   "outputs": [
    {
     "name": "stdout",
     "output_type": "stream",
     "text": [
      "           dead  survived\n",
      "embarkedC    75        93\n",
      "embarkedQ    47        30\n",
      "embarkedS   427       217\n"
     ]
    }
   ],
   "source": [
    "graph_4 = pd.DataFrame({'survived': [num_C_survived, num_Q_survived, num_S_survived], 'dead': [num_C_dead, num_Q_dead, num_S_dead],},\n",
    "                       index=['embarkedC','embarkedQ', 'embarkedS'])\n",
    "print (graph_4)"
   ]
  },
  {
   "cell_type": "code",
   "execution_count": 96,
   "metadata": {},
   "outputs": [
    {
     "data": {
      "image/png": "[encoded data removed]",
      "text/plain": [
       "<matplotlib.figure.Figure at 0x114164668>"
      ]
     },
     "metadata": {},
     "output_type": "display_data"
    }
   ],
   "source": [
    "graph_4.plot(kind='bar', stacked=True)\n",
    "plt.show()"
   ]
  },
  {
   "cell_type": "code",
   "execution_count": 105,
   "metadata": {},
   "outputs": [
    {
     "data": {
      "image/png": "[encoded data removed]",
      "text/plain": [
       "<matplotlib.figure.Figure at 0x1142a0780>"
      ]
     },
     "metadata": {},
     "output_type": "display_data"
    }
   ],
   "source": [
    "titanic_df['Age'].hist()\n",
    "plt.show()"
   ]
  },
  {
   "cell_type": "code",
   "execution_count": 132,
   "metadata": {},
   "outputs": [
    {
     "data": {
      "text/plain": [
       "count    714.000000\n",
       "mean      29.699118\n",
       "std       14.526497\n",
       "min        0.420000\n",
       "25%       20.125000\n",
       "50%       28.000000\n",
       "75%       38.000000\n",
       "max       80.000000\n",
       "Name: Age, dtype: float64"
      ]
     },
     "execution_count": 132,
     "metadata": {},
     "output_type": "execute_result"
    }
   ],
   "source": [
    "titanic_df['Age'].describe()"
   ]
  },
  {
   "cell_type": "code",
   "execution_count": 112,
   "metadata": {},
   "outputs": [
    {
     "data": {
      "text/html": [
       "<div>\n",
       "<style scoped>\n",
       "    .dataframe tbody tr th:only-of-type {\n",
       "        vertical-align: middle;\n",
       "    }\n",
       "\n",
       "    .dataframe tbody tr th {\n",
       "        vertical-align: top;\n",
       "    }\n",
       "\n",
       "    .dataframe thead th {\n",
       "        text-align: right;\n",
       "    }\n",
       "</style>\n",
       "<table border=\"1\" class=\"dataframe\">\n",
       "  <thead>\n",
       "    <tr style=\"text-align: right;\">\n",
       "      <th></th>\n",
       "      <th>PassengerId</th>\n",
       "      <th>Survived</th>\n",
       "      <th>Pclass</th>\n",
       "      <th>Name</th>\n",
       "      <th>Sex</th>\n",
       "      <th>Age</th>\n",
       "      <th>SibSp</th>\n",
       "      <th>Parch</th>\n",
       "      <th>Ticket</th>\n",
       "      <th>Fare</th>\n",
       "      <th>Cabin</th>\n",
       "      <th>Embarked</th>\n",
       "      <th>Age_group</th>\n",
       "    </tr>\n",
       "  </thead>\n",
       "  <tbody>\n",
       "    <tr>\n",
       "      <th>0</th>\n",
       "      <td>1</td>\n",
       "      <td>0</td>\n",
       "      <td>3</td>\n",
       "      <td>Braund, Mr. Owen Harris</td>\n",
       "      <td>male</td>\n",
       "      <td>22.0</td>\n",
       "      <td>1</td>\n",
       "      <td>0</td>\n",
       "      <td>A/5 21171</td>\n",
       "      <td>7.2500</td>\n",
       "      <td>NaN</td>\n",
       "      <td>S</td>\n",
       "      <td>middle</td>\n",
       "    </tr>\n",
       "    <tr>\n",
       "      <th>1</th>\n",
       "      <td>2</td>\n",
       "      <td>1</td>\n",
       "      <td>1</td>\n",
       "      <td>Cumings, Mrs. John Bradley (Florence Briggs Th...</td>\n",
       "      <td>female</td>\n",
       "      <td>38.0</td>\n",
       "      <td>1</td>\n",
       "      <td>0</td>\n",
       "      <td>PC 17599</td>\n",
       "      <td>71.2833</td>\n",
       "      <td>C85</td>\n",
       "      <td>C</td>\n",
       "      <td>middle</td>\n",
       "    </tr>\n",
       "    <tr>\n",
       "      <th>2</th>\n",
       "      <td>3</td>\n",
       "      <td>1</td>\n",
       "      <td>3</td>\n",
       "      <td>Heikkinen, Miss. Laina</td>\n",
       "      <td>female</td>\n",
       "      <td>26.0</td>\n",
       "      <td>0</td>\n",
       "      <td>0</td>\n",
       "      <td>STON/O2. 3101282</td>\n",
       "      <td>7.9250</td>\n",
       "      <td>NaN</td>\n",
       "      <td>S</td>\n",
       "      <td>middle</td>\n",
       "    </tr>\n",
       "    <tr>\n",
       "      <th>3</th>\n",
       "      <td>4</td>\n",
       "      <td>1</td>\n",
       "      <td>1</td>\n",
       "      <td>Futrelle, Mrs. Jacques Heath (Lily May Peel)</td>\n",
       "      <td>female</td>\n",
       "      <td>35.0</td>\n",
       "      <td>1</td>\n",
       "      <td>0</td>\n",
       "      <td>113803</td>\n",
       "      <td>53.1000</td>\n",
       "      <td>C123</td>\n",
       "      <td>S</td>\n",
       "      <td>middle</td>\n",
       "    </tr>\n",
       "    <tr>\n",
       "      <th>4</th>\n",
       "      <td>5</td>\n",
       "      <td>0</td>\n",
       "      <td>3</td>\n",
       "      <td>Allen, Mr. William Henry</td>\n",
       "      <td>male</td>\n",
       "      <td>35.0</td>\n",
       "      <td>0</td>\n",
       "      <td>0</td>\n",
       "      <td>373450</td>\n",
       "      <td>8.0500</td>\n",
       "      <td>NaN</td>\n",
       "      <td>S</td>\n",
       "      <td>middle</td>\n",
       "    </tr>\n",
       "  </tbody>\n",
       "</table>\n",
       "</div>"
      ],
      "text/plain": [
       "   PassengerId  Survived  Pclass  \\\n",
       "0            1         0       3   \n",
       "1            2         1       1   \n",
       "2            3         1       3   \n",
       "3            4         1       1   \n",
       "4            5         0       3   \n",
       "\n",
       "                                                Name     Sex   Age  SibSp  \\\n",
       "0                            Braund, Mr. Owen Harris    male  22.0      1   \n",
       "1  Cumings, Mrs. John Bradley (Florence Briggs Th...  female  38.0      1   \n",
       "2                             Heikkinen, Miss. Laina  female  26.0      0   \n",
       "3       Futrelle, Mrs. Jacques Heath (Lily May Peel)  female  35.0      1   \n",
       "4                           Allen, Mr. William Henry    male  35.0      0   \n",
       "\n",
       "   Parch            Ticket     Fare Cabin Embarked Age_group  \n",
       "0      0         A/5 21171   7.2500   NaN        S    middle  \n",
       "1      0          PC 17599  71.2833   C85        C    middle  \n",
       "2      0  STON/O2. 3101282   7.9250   NaN        S    middle  \n",
       "3      0            113803  53.1000  C123        S    middle  \n",
       "4      0            373450   8.0500   NaN        S    middle  "
      ]
     },
     "execution_count": 112,
     "metadata": {},
     "output_type": "execute_result"
    }
   ],
   "source": [
    "def get_age_group(age):\n",
    "    if age < 18:\n",
    "        return 'child'\n",
    "    elif age < 50:\n",
    "        return 'middle'\n",
    "    else:\n",
    "        return 'old'\n",
    "titanic_df['Age_group'] = titanic_df['Age'].dropna().apply(get_age_group)\n",
    "titanic_df.head()\n"
   ]
  },
  {
   "cell_type": "code",
   "execution_count": null,
   "metadata": {
    "collapsed": true
   },
   "outputs": [],
   "source": []
  },
  {
   "cell_type": "code",
   "execution_count": 114,
   "metadata": {},
   "outputs": [
    {
     "data": {
      "text/plain": [
       "{('child',\n",
       "  0): Int64Index([  7,  14,  16,  24,  50,  59,  63,  71,  86, 111, 114, 119, 138,\n",
       "             147, 163, 164, 171, 182, 205, 266, 278, 282, 297, 333, 352, 374,\n",
       "             386, 419, 433, 480, 500, 532, 541, 542, 574, 634, 642, 683, 686,\n",
       "             721, 731, 746, 764, 787, 791, 813, 819, 824, 841, 844, 850, 852],\n",
       "            dtype='int64'),\n",
       " ('child',\n",
       "  1): Int64Index([  9,  10,  22,  39,  43,  58,  68,  78,  84, 125, 156, 165, 172,\n",
       "             183, 184, 193, 208, 220, 233, 237, 261, 305, 307, 329, 340, 348,\n",
       "             381, 389, 407, 435, 445, 446, 448, 469, 479, 489, 504, 530, 535,\n",
       "             549, 550, 618, 644, 689, 691, 720, 750, 751, 755, 777, 780, 781,\n",
       "             788, 802, 803, 827, 830, 831, 853, 869, 875],\n",
       "            dtype='int64'),\n",
       " ('middle', 0): Int64Index([  0,   4,  12,  13,  18,  20,  27,  30,  34,  35,\n",
       "             ...\n",
       "             873, 876, 877, 881, 882, 883, 884, 885, 886, 890],\n",
       "            dtype='int64', length=325),\n",
       " ('middle', 1): Int64Index([  1,   2,   3,   8,  21,  23,  25,  44,  52,  53,\n",
       "             ...\n",
       "             856, 858, 862, 865, 866, 871, 874, 880, 887, 889],\n",
       "            dtype='int64', length=202),\n",
       " ('old',\n",
       "  0): Int64Index([  6,  33,  54,  94,  96, 116, 124, 150, 152, 155, 170, 174, 177,\n",
       "             222, 232, 249, 252, 262, 280, 317, 326, 406, 434, 438, 456, 467,\n",
       "             482, 487, 492, 493, 544, 545, 555, 582, 625, 626, 631, 659, 672,\n",
       "             684, 694, 695, 714, 723, 745, 772, 851],\n",
       "            dtype='int64'),\n",
       " ('old',\n",
       "  1): Int64Index([ 11,  15, 195, 259, 268, 275, 299, 366, 449, 458, 483, 496, 513,\n",
       "             526, 570, 571, 587, 591, 630, 647, 660, 765, 774, 820, 829, 857,\n",
       "             879],\n",
       "            dtype='int64'),\n",
       " (nan, 0): Int64Index([  5,  26,  29,  42,  45,  46,  48,  64,  76,  77,\n",
       "             ...\n",
       "             825, 826, 832, 837, 846, 859, 863, 868, 878, 888],\n",
       "            dtype='int64', length=125),\n",
       " (nan,\n",
       "  1): Int64Index([ 17,  19,  28,  31,  32,  36,  47,  55,  65,  82, 107, 109, 128,\n",
       "             166, 186, 198, 241, 256, 274, 298, 300, 301, 303, 306, 330, 334,\n",
       "             347, 358, 359, 367, 368, 375, 431, 444, 457, 507, 533, 547, 573,\n",
       "             596, 612, 643, 653, 669, 692, 697, 709, 727, 740, 828, 839, 849],\n",
       "            dtype='int64')}"
      ]
     },
     "execution_count": 114,
     "metadata": {},
     "output_type": "execute_result"
    }
   ],
   "source": [
    "grouped_age_survived = titanic_df.groupby(['Age_group', 'Survived'])\n",
    "grouped_age_survived.groups\n"
   ]
  },
  {
   "cell_type": "code",
   "execution_count": 133,
   "metadata": {},
   "outputs": [
    {
     "name": "stdout",
     "output_type": "stream",
     "text": [
      "0.5398230088495575\n",
      "52\n",
      "61\n"
     ]
    }
   ],
   "source": [
    "num_child_dead = len(grouped_age_survived.groups['child',0])\n",
    "num_child_survived = len(grouped_age_survived.groups['child',1])\n",
    "child_survived_rate = num_child_survived/(num_child_dead+num_child_survived)\n",
    "print(child_survived_rate)\n",
    "print(num_child_dead)\n",
    "print(num_child_survived)"
   ]
  },
  {
   "cell_type": "code",
   "execution_count": 134,
   "metadata": {},
   "outputs": [
    {
     "name": "stdout",
     "output_type": "stream",
     "text": [
      "0.38330170777988615\n",
      "325\n",
      "202\n"
     ]
    }
   ],
   "source": [
    "num_middle_dead = len(grouped_age_survived.groups['middle',0])\n",
    "num_middle_survived = len(grouped_age_survived.groups['middle',1])\n",
    "middle_survived_rate = num_middle_survived/(num_middle_dead+num_middle_survived)\n",
    "print(middle_survived_rate)\n",
    "print(num_middle_dead)\n",
    "print(num_middle_survived)"
   ]
  },
  {
   "cell_type": "code",
   "execution_count": 135,
   "metadata": {},
   "outputs": [
    {
     "name": "stdout",
     "output_type": "stream",
     "text": [
      "0.36486486486486486\n",
      "47\n",
      "27\n"
     ]
    }
   ],
   "source": [
    "num_old_dead = len(grouped_age_survived.groups['old',0])\n",
    "num_old_survived = len(grouped_age_survived.groups['old',1])\n",
    "old_survived_rate = num_old_survived/(num_old_dead+num_old_survived)\n",
    "print(old_survived_rate)\n",
    "print(num_old_dead)\n",
    "print(num_old_survived)"
   ]
  },
  {
   "cell_type": "code",
   "execution_count": 121,
   "metadata": {},
   "outputs": [
    {
     "name": "stdout",
     "output_type": "stream",
     "text": [
      "        dead  survived\n",
      "child     52        61\n",
      "middle   325       202\n",
      "old       47        27\n"
     ]
    }
   ],
   "source": [
    "graph_5 = pd.DataFrame({'survived': [num_child_survived, num_middle_survived, num_old_survived], 'dead': [num_child_dead, num_middle_dead, num_old_dead],},\n",
    "                       index=['child','middle', 'old'])\n",
    "print (graph_5)"
   ]
  },
  {
   "cell_type": "code",
   "execution_count": 125,
   "metadata": {},
   "outputs": [
    {
     "data": {
      "image/png": "[encoded data removed]",
      "text/plain": [
       "<matplotlib.figure.Figure at 0x114381518>"
      ]
     },
     "metadata": {},
     "output_type": "display_data"
    }
   ],
   "source": [
    "graph_5.plot(kind='bar', stacked=True)\n",
    "plt.show()"
   ]
  },
  {
   "cell_type": "code",
   "execution_count": null,
   "metadata": {
    "collapsed": true
   },
   "outputs": [],
   "source": []
  }
 ],
 "metadata": {
  "kernelspec": {
   "display_name": "Python 3",
   "language": "python",
   "name": "python3"
  },
  "language_info": {
   "codemirror_mode": {
    "name": "ipython",
    "version": 3
   },
   "file_extension": ".py",
   "mimetype": "text/x-python",
   "name": "python",
   "nbconvert_exporter": "python",
   "pygments_lexer": "ipython3",
   "version": "3.6.3"
  }
 },
 "nbformat": 4,
 "nbformat_minor": 2
}
